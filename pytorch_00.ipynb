{
  "nbformat": 4,
  "nbformat_minor": 0,
  "metadata": {
    "colab": {
      "provenance": [],
      "collapsed_sections": [
        "ZFpEYEQdcJ_h",
        "iMT2_i5BRMx7",
        "6DbbBTP0YLIU",
        "e6RFnknYeOv0",
        "Wqo6WNj6WIMb",
        "8mEZvo8kbTz9",
        "H4G7a2rgcW4t",
        "OJPqCMKwX-qf",
        "feaIrhWUdNnz"
      ],
      "toc_visible": true,
      "authorship_tag": "ABX9TyNIAfJ7yOuG6PnC49KO593D",
      "include_colab_link": true
    },
    "kernelspec": {
      "name": "python3",
      "display_name": "Python 3"
    },
    "language_info": {
      "name": "python"
    }
  },
  "cells": [
    {
      "cell_type": "markdown",
      "metadata": {
        "id": "view-in-github",
        "colab_type": "text"
      },
      "source": [
        "<a href=\"https://colab.research.google.com/github/mehraj-alom/pytorch/blob/main/pytorch_00.ipynb\" target=\"_parent\"><img src=\"https://colab.research.google.com/assets/colab-badge.svg\" alt=\"Open In Colab\"/></a>"
      ]
    },
    {
      "cell_type": "markdown",
      "source": [
        "## Start"
      ],
      "metadata": {
        "id": "ZFpEYEQdcJ_h"
      }
    },
    {
      "cell_type": "code",
      "source": [
        "!nvidia-smi #System mangement inference"
      ],
      "metadata": {
        "colab": {
          "base_uri": "https://localhost:8080/"
        },
        "id": "IPdx9JWIQTFA",
        "outputId": "8750a48d-79c2-4ae5-d60a-e9855a90de92"
      },
      "execution_count": 98,
      "outputs": [
        {
          "output_type": "stream",
          "name": "stdout",
          "text": [
            "/bin/bash: line 1: nvidia-smi: command not found\n"
          ]
        }
      ]
    },
    {
      "cell_type": "code",
      "source": [
        "import torch\n",
        "torch.__version__"
      ],
      "metadata": {
        "colab": {
          "base_uri": "https://localhost:8080/",
          "height": 37
        },
        "id": "2EKe2KQHQ2PJ",
        "outputId": "14e61b93-c086-480e-bc89-6e0cd4091077"
      },
      "execution_count": 99,
      "outputs": [
        {
          "output_type": "execute_result",
          "data": {
            "text/plain": [
              "'2.6.0+cu124'"
            ],
            "application/vnd.google.colaboratory.intrinsic+json": {
              "type": "string"
            }
          },
          "metadata": {},
          "execution_count": 99
        }
      ]
    },
    {
      "cell_type": "markdown",
      "source": [
        "## Tensors"
      ],
      "metadata": {
        "id": "iMT2_i5BRMx7"
      }
    },
    {
      "cell_type": "code",
      "source": [
        "#scaler\n",
        "scaler = torch.tensor(7)\n",
        "print(scaler)\n",
        "print(scaler.ndim)\n",
        "print(scaler.item())"
      ],
      "metadata": {
        "colab": {
          "base_uri": "https://localhost:8080/"
        },
        "id": "dsO-zh3SSqfm",
        "outputId": "fd003f65-e847-4b07-be67-381a647fe572"
      },
      "execution_count": 100,
      "outputs": [
        {
          "output_type": "stream",
          "name": "stdout",
          "text": [
            "tensor(7)\n",
            "0\n",
            "7\n"
          ]
        }
      ]
    },
    {
      "cell_type": "code",
      "source": [
        "#Vector\n",
        "vector = torch.tensor([7,9])\n",
        "vector,vector.ndim,vector.shape"
      ],
      "metadata": {
        "colab": {
          "base_uri": "https://localhost:8080/"
        },
        "id": "EYSqJXjvUSsO",
        "outputId": "13cfb9db-481a-492e-a7cf-4c8748e3c92c"
      },
      "execution_count": 101,
      "outputs": [
        {
          "output_type": "execute_result",
          "data": {
            "text/plain": [
              "(tensor([7, 9]), 1, torch.Size([2]))"
            ]
          },
          "metadata": {},
          "execution_count": 101
        }
      ]
    },
    {
      "cell_type": "code",
      "source": [
        "#Matrix\n",
        "Matrix = torch.tensor([[2,3],\n",
        "                       [3,6]])\n",
        "Matrix,Matrix.ndim,Matrix.shape,Matrix[1]"
      ],
      "metadata": {
        "colab": {
          "base_uri": "https://localhost:8080/"
        },
        "id": "ivu9m7a1U11C",
        "outputId": "61f27b47-d734-450d-b532-a5da82edcf76"
      },
      "execution_count": 102,
      "outputs": [
        {
          "output_type": "execute_result",
          "data": {
            "text/plain": [
              "(tensor([[2, 3],\n",
              "         [3, 6]]),\n",
              " 2,\n",
              " torch.Size([2, 2]),\n",
              " tensor([3, 6]))"
            ]
          },
          "metadata": {},
          "execution_count": 102
        }
      ]
    },
    {
      "cell_type": "code",
      "source": [
        "#TENSOR\n",
        "Tensor = torch.tensor([[[2,3,4],\n",
        "                        [5,6,7],\n",
        "                        [7,8,0]],\n",
        "                       ])\n",
        "Tensor,Tensor.ndim,Tensor.shape\n",
        "# -->  torch.Size([1, 3, 3])) means 1 tensor of size 3 by 3"
      ],
      "metadata": {
        "colab": {
          "base_uri": "https://localhost:8080/"
        },
        "id": "UBAR6gR6VxAX",
        "outputId": "565655cf-f8af-404b-9a10-86905fc4a427"
      },
      "execution_count": 103,
      "outputs": [
        {
          "output_type": "execute_result",
          "data": {
            "text/plain": [
              "(tensor([[[2, 3, 4],\n",
              "          [5, 6, 7],\n",
              "          [7, 8, 0]]]),\n",
              " 3,\n",
              " torch.Size([1, 3, 3]))"
            ]
          },
          "metadata": {},
          "execution_count": 103
        }
      ]
    },
    {
      "cell_type": "code",
      "source": [
        "#TENSOR\n",
        "Tensor = torch.tensor([[[2,3,4],\n",
        "                        [5,6,7],\n",
        "                        [7,8,0]],\n",
        "                       [[2,3,4],\n",
        "                        [5,6,7],\n",
        "                        [7,8,0]]])\n",
        "Tensor,Tensor.ndim,Tensor.shape\n",
        "#  -->  torch.Size([2, 3, 3])) means 2 tensor of size 3 by 3"
      ],
      "metadata": {
        "colab": {
          "base_uri": "https://localhost:8080/"
        },
        "id": "1Y-GW4c-XDFk",
        "outputId": "5cabf8eb-a8d0-474f-be9a-44dbea12badc"
      },
      "execution_count": 104,
      "outputs": [
        {
          "output_type": "execute_result",
          "data": {
            "text/plain": [
              "(tensor([[[2, 3, 4],\n",
              "          [5, 6, 7],\n",
              "          [7, 8, 0]],\n",
              " \n",
              "         [[2, 3, 4],\n",
              "          [5, 6, 7],\n",
              "          [7, 8, 0]]]),\n",
              " 3,\n",
              " torch.Size([2, 3, 3]))"
            ]
          },
          "metadata": {},
          "execution_count": 104
        }
      ]
    },
    {
      "cell_type": "markdown",
      "source": [
        "## Random Tensors\n",
        "# WHY ??\n",
        "Random tensors are important because the way many neural networks learn is that they start with tensors full of random numbers and then adjust those random numbers to better represent the data\n",
        "\n",
        "\n",
        "` Start With random number -> Look at data -> Update Random Numbbers -> look at data ............`"
      ],
      "metadata": {
        "id": "6DbbBTP0YLIU"
      }
    },
    {
      "cell_type": "code",
      "source": [
        "random_tensors = torch.rand(2,3,4)\n",
        "random_tensors,random_tensors.ndim"
      ],
      "metadata": {
        "colab": {
          "base_uri": "https://localhost:8080/"
        },
        "id": "Pz9FQWJQXKxc",
        "outputId": "ffd05c2f-3153-481d-9ad6-fd3b85ead04c"
      },
      "execution_count": 105,
      "outputs": [
        {
          "output_type": "execute_result",
          "data": {
            "text/plain": [
              "(tensor([[[0.3901, 0.9088, 0.5334, 0.7073],\n",
              "          [0.7116, 0.2050, 0.3078, 0.9809],\n",
              "          [0.0103, 0.4660, 0.4604, 0.8547]],\n",
              " \n",
              "         [[0.4525, 0.6317, 0.4760, 0.2200],\n",
              "          [0.2166, 0.2571, 0.0458, 0.1755],\n",
              "          [0.6177, 0.8291, 0.5246, 0.2708]]]),\n",
              " 3)"
            ]
          },
          "metadata": {},
          "execution_count": 105
        }
      ]
    },
    {
      "cell_type": "code",
      "source": [
        "#Random tensor Similer to image shape\n",
        "Random_tens = torch.rand(size=(3,224,224))\n",
        "Random_tens,Random_tens.shape,Random_tens.ndim"
      ],
      "metadata": {
        "colab": {
          "base_uri": "https://localhost:8080/"
        },
        "id": "k72hNvoqZqfa",
        "outputId": "e63248f5-c1eb-4e6d-dc59-fa680edc4fde"
      },
      "execution_count": 106,
      "outputs": [
        {
          "output_type": "execute_result",
          "data": {
            "text/plain": [
              "(tensor([[[0.7197, 0.3081, 0.3892,  ..., 0.8298, 0.9454, 0.8039],\n",
              "          [0.3937, 0.2775, 0.6415,  ..., 0.9636, 0.6473, 0.8856],\n",
              "          [0.1048, 0.7677, 0.8854,  ..., 0.5910, 0.1396, 0.4820],\n",
              "          ...,\n",
              "          [0.0689, 0.9215, 0.4849,  ..., 0.5814, 0.8598, 0.6564],\n",
              "          [0.3493, 0.0643, 0.4134,  ..., 0.1466, 0.1036, 0.4578],\n",
              "          [0.9760, 0.8793, 0.1022,  ..., 0.2884, 0.8731, 0.2955]],\n",
              " \n",
              "         [[0.4231, 0.4808, 0.4522,  ..., 0.5762, 0.7849, 0.0746],\n",
              "          [0.1512, 0.2537, 0.8303,  ..., 0.5044, 0.5205, 0.9193],\n",
              "          [0.7402, 0.1169, 0.9328,  ..., 0.0697, 0.6136, 0.4005],\n",
              "          ...,\n",
              "          [0.4531, 0.3057, 0.8446,  ..., 0.0906, 0.9781, 0.2339],\n",
              "          [0.5199, 0.4462, 0.5111,  ..., 0.0788, 0.1127, 0.2211],\n",
              "          [0.7822, 0.1611, 0.9133,  ..., 0.2139, 0.1390, 0.0475]],\n",
              " \n",
              "         [[0.5663, 0.2418, 0.7390,  ..., 0.9055, 0.8579, 0.9039],\n",
              "          [0.0983, 0.3548, 0.0504,  ..., 0.4605, 0.2840, 0.6555],\n",
              "          [0.2710, 0.9154, 0.7390,  ..., 0.6725, 0.5279, 0.4937],\n",
              "          ...,\n",
              "          [0.3196, 0.3503, 0.9900,  ..., 0.2993, 0.3749, 0.6680],\n",
              "          [0.8673, 0.0793, 0.6752,  ..., 0.8109, 0.5590, 0.3527],\n",
              "          [0.4719, 0.4098, 0.0395,  ..., 0.6195, 0.7703, 0.9595]]]),\n",
              " torch.Size([3, 224, 224]),\n",
              " 3)"
            ]
          },
          "metadata": {},
          "execution_count": 106
        }
      ]
    },
    {
      "cell_type": "code",
      "source": [
        "# Tensor Zeros and ones\n",
        "ones = torch.ones(size=(2, 2))\n",
        "zeros = torch.zeros(size=(2,3))\n",
        "print(\"Tensor of ones:\")\n",
        "print(ones)\n",
        "print(\"\\nTensor of zeros:\")\n",
        "print(zeros)\n",
        "print(ones.dtype)\n",
        "print(zeros.dtype)"
      ],
      "metadata": {
        "colab": {
          "base_uri": "https://localhost:8080/"
        },
        "id": "Het3ebmGawZ6",
        "outputId": "cb537b7c-4f15-437f-d706-a6905cae47b3"
      },
      "execution_count": 107,
      "outputs": [
        {
          "output_type": "stream",
          "name": "stdout",
          "text": [
            "Tensor of ones:\n",
            "tensor([[1., 1.],\n",
            "        [1., 1.]])\n",
            "\n",
            "Tensor of zeros:\n",
            "tensor([[0., 0., 0.],\n",
            "        [0., 0., 0.]])\n",
            "torch.float32\n",
            "torch.float32\n"
          ]
        }
      ]
    },
    {
      "cell_type": "code",
      "source": [
        "# Tensor Range\n",
        "tensor_range = torch.arange(start=0,step =67 ,end=1000)\n",
        "tensor_range,tensor_range.shape"
      ],
      "metadata": {
        "colab": {
          "base_uri": "https://localhost:8080/"
        },
        "id": "kLOOMLiebwWJ",
        "outputId": "a563853d-b4ce-4947-f04a-d3df8713713f"
      },
      "execution_count": 108,
      "outputs": [
        {
          "output_type": "execute_result",
          "data": {
            "text/plain": [
              "(tensor([  0,  67, 134, 201, 268, 335, 402, 469, 536, 603, 670, 737, 804, 871,\n",
              "         938]),\n",
              " torch.Size([15]))"
            ]
          },
          "metadata": {},
          "execution_count": 108
        }
      ]
    },
    {
      "cell_type": "code",
      "source": [
        "#Creating Tensors Like\n",
        "ten_zeros = torch.zeros_like(input=tensor_range)\n",
        "ten_zeros,ten_zeros.shape"
      ],
      "metadata": {
        "colab": {
          "base_uri": "https://localhost:8080/"
        },
        "id": "oLvkYGIxdUz4",
        "outputId": "d5e47e41-06ab-472c-b609-860dbc42aaf0"
      },
      "execution_count": 109,
      "outputs": [
        {
          "output_type": "execute_result",
          "data": {
            "text/plain": [
              "(tensor([0, 0, 0, 0, 0, 0, 0, 0, 0, 0, 0, 0, 0, 0, 0]), torch.Size([15]))"
            ]
          },
          "metadata": {},
          "execution_count": 109
        }
      ]
    },
    {
      "cell_type": "markdown",
      "source": [
        "## Tensor Data Types"
      ],
      "metadata": {
        "id": "e6RFnknYeOv0"
      }
    },
    {
      "cell_type": "code",
      "source": [
        "tensor_dType = torch.tensor([[2.0,3],\n",
        "                             [2,8]],\n",
        "                            dtype=torch.float16,\n",
        "                            device=None,\n",
        "                            requires_grad=False) #To track gradients with this operation\n",
        "tensor_dType.dtype"
      ],
      "metadata": {
        "id": "kImAragJdtgC",
        "colab": {
          "base_uri": "https://localhost:8080/"
        },
        "outputId": "f3a74249-3d60-451c-d5f9-f1da325d672b"
      },
      "execution_count": 110,
      "outputs": [
        {
          "output_type": "execute_result",
          "data": {
            "text/plain": [
              "torch.float16"
            ]
          },
          "metadata": {},
          "execution_count": 110
        }
      ]
    },
    {
      "cell_type": "code",
      "source": [
        "#Data Type Conversion\n",
        "int_32_tensor = tensor_dType.type(torch.int32)\n",
        "int_32_tensor,int_32_tensor.dtype"
      ],
      "metadata": {
        "colab": {
          "base_uri": "https://localhost:8080/"
        },
        "id": "KR8mt3rwFzXE",
        "outputId": "8a4460f1-8604-496b-b01f-f8a78049ed55"
      },
      "execution_count": 111,
      "outputs": [
        {
          "output_type": "execute_result",
          "data": {
            "text/plain": [
              "(tensor([[2, 3],\n",
              "         [2, 8]], dtype=torch.int32),\n",
              " torch.int32)"
            ]
          },
          "metadata": {},
          "execution_count": 111
        }
      ]
    },
    {
      "cell_type": "code",
      "source": [
        "tensor_dType * int_32_tensor"
      ],
      "metadata": {
        "colab": {
          "base_uri": "https://localhost:8080/"
        },
        "id": "JlNBw2H2Hm9S",
        "outputId": "0ec0727a-f39e-4b9c-9a56-6370cfa54527"
      },
      "execution_count": 112,
      "outputs": [
        {
          "output_type": "execute_result",
          "data": {
            "text/plain": [
              "tensor([[ 4.,  9.],\n",
              "        [ 4., 64.]], dtype=torch.float16)"
            ]
          },
          "metadata": {},
          "execution_count": 112
        }
      ]
    },
    {
      "cell_type": "code",
      "source": [
        "tensor_dType.device"
      ],
      "metadata": {
        "colab": {
          "base_uri": "https://localhost:8080/"
        },
        "id": "qysoPo8AJVVg",
        "outputId": "b09d338b-eac5-4bae-e6cc-7b1b9df6f855"
      },
      "execution_count": 113,
      "outputs": [
        {
          "output_type": "execute_result",
          "data": {
            "text/plain": [
              "device(type='cpu')"
            ]
          },
          "metadata": {},
          "execution_count": 113
        }
      ]
    },
    {
      "cell_type": "code",
      "source": [
        "tensor_dType = tensor_dType.type(torch.int32)"
      ],
      "metadata": {
        "id": "ItEylj9HMFqT"
      },
      "execution_count": 114,
      "outputs": []
    },
    {
      "cell_type": "code",
      "source": [
        "#Tensor inbuilt operation\n",
        "print(torch.mul(tensor_dType,int_32_tensor))\n",
        "print(torch.div(tensor_dType,int_32_tensor))\n",
        "print(torch.add(tensor_dType,int_32_tensor))\n",
        "print(torch.matmul(tensor_dType,int_32_tensor))"
      ],
      "metadata": {
        "colab": {
          "base_uri": "https://localhost:8080/"
        },
        "id": "1NxeLY9mJufD",
        "outputId": "9fed0d38-5c3d-416f-f768-0d23d833b13b"
      },
      "execution_count": 115,
      "outputs": [
        {
          "output_type": "stream",
          "name": "stdout",
          "text": [
            "tensor([[ 4,  9],\n",
            "        [ 4, 64]], dtype=torch.int32)\n",
            "tensor([[1., 1.],\n",
            "        [1., 1.]])\n",
            "tensor([[ 4,  6],\n",
            "        [ 4, 16]], dtype=torch.int32)\n",
            "tensor([[10, 30],\n",
            "        [20, 70]], dtype=torch.int32)\n"
          ]
        }
      ]
    },
    {
      "cell_type": "code",
      "source": [
        "a = torch.rand(3,4)\n",
        "b = torch.rand(3,4)\n",
        "c = torch.matmul(a.T,b) # Transpose to match the inner shape\n",
        "c"
      ],
      "metadata": {
        "colab": {
          "base_uri": "https://localhost:8080/"
        },
        "id": "6Ux5VRXLNaoJ",
        "outputId": "4064fe5b-5b59-4cd4-ba29-1228c5068e97"
      },
      "execution_count": 116,
      "outputs": [
        {
          "output_type": "execute_result",
          "data": {
            "text/plain": [
              "tensor([[0.7969, 0.9090, 1.0515, 0.4683],\n",
              "        [0.5505, 0.6490, 0.7616, 0.3516],\n",
              "        [0.1604, 0.4909, 0.3284, 0.3250],\n",
              "        [0.1276, 0.4782, 0.2843, 0.3195]])"
            ]
          },
          "metadata": {},
          "execution_count": 116
        }
      ]
    },
    {
      "cell_type": "markdown",
      "source": [
        "## Tensor aggregation"
      ],
      "metadata": {
        "id": "Wqo6WNj6WIMb"
      }
    },
    {
      "cell_type": "code",
      "source": [
        "torch.min(c),torch.max(c),torch.mean(c),torch.sum(c)"
      ],
      "metadata": {
        "colab": {
          "base_uri": "https://localhost:8080/"
        },
        "id": "jtMPipguVrIk",
        "outputId": "b6653bf3-a173-493a-83fa-f3490356a642"
      },
      "execution_count": 117,
      "outputs": [
        {
          "output_type": "execute_result",
          "data": {
            "text/plain": [
              "(tensor(0.1276), tensor(1.0515), tensor(0.5033), tensor(8.0529))"
            ]
          },
          "metadata": {},
          "execution_count": 117
        }
      ]
    },
    {
      "cell_type": "markdown",
      "source": [
        "## Argmin & Argmax (Positional MAX And MIN)"
      ],
      "metadata": {
        "id": "8mEZvo8kbTz9"
      }
    },
    {
      "cell_type": "code",
      "source": [
        "print(torch.argmax(tensor_dType))\n",
        "print(tensor_dType.argmax())\n",
        "print(\"********\")\n",
        "print(torch.argmin(tensor_dType))\n",
        "print(tensor_dType.argmin())"
      ],
      "metadata": {
        "colab": {
          "base_uri": "https://localhost:8080/"
        },
        "id": "kUx2oirxXcWt",
        "outputId": "1b306fef-aaaf-4f5f-d5c7-99733408dbe5"
      },
      "execution_count": 118,
      "outputs": [
        {
          "output_type": "stream",
          "name": "stdout",
          "text": [
            "tensor(3)\n",
            "tensor(3)\n",
            "********\n",
            "tensor(0)\n",
            "tensor(0)\n"
          ]
        }
      ]
    },
    {
      "cell_type": "markdown",
      "source": [
        "## Reshping , Viewing and Stacking  sqeezing and unsquezing Tensors\n",
        " * Reshaping:\n",
        "     Changes the shape of an input tensor to a defined shape.\n",
        " * View:\n",
        "   Returns a view of an input tensor with a certain shape, sharing the same memory as the original tensor.\n",
        " * Stacking:\n",
        "   Combines multiple tensors either vertically (vstack) or horizontally\n",
        "   (hstack).\n",
        " * Squeeze:\n",
        "  Removes all dimensions of size 1 from a tensor.\n",
        " * Unsqueeze:\n",
        "  Adds a dimension of size 1 to a target tensor at a specified position.\n",
        " * Permute:\n",
        "  Returns a view of the input with its dimensions permuted or swapped in a specific way."
      ],
      "metadata": {
        "id": "H4G7a2rgcW4t"
      }
    },
    {
      "cell_type": "code",
      "source": [
        "x = torch.arange(0,18,dtype=torch.float16)\n",
        "print(x)\n",
        "x_reshaped = x.reshape(3,6) # Shape must be compitable with the original tensor , otherwise it will show an error\n",
        "print(x_reshaped)"
      ],
      "metadata": {
        "colab": {
          "base_uri": "https://localhost:8080/"
        },
        "id": "6IJep4Z0cgML",
        "outputId": "ef80795b-5420-4a2b-a880-0d7514c2fa25"
      },
      "execution_count": 119,
      "outputs": [
        {
          "output_type": "stream",
          "name": "stdout",
          "text": [
            "tensor([ 0.,  1.,  2.,  3.,  4.,  5.,  6.,  7.,  8.,  9., 10., 11., 12., 13.,\n",
            "        14., 15., 16., 17.], dtype=torch.float16)\n",
            "tensor([[ 0.,  1.,  2.,  3.,  4.,  5.],\n",
            "        [ 6.,  7.,  8.,  9., 10., 11.],\n",
            "        [12., 13., 14., 15., 16., 17.]], dtype=torch.float16)\n"
          ]
        }
      ]
    },
    {
      "cell_type": "code",
      "source": [
        "z = x.view(2,9)\n",
        "print(z)\n",
        "z[:,0] = 2\n",
        "z,x # Z sharing the same memory as the original tensor x"
      ],
      "metadata": {
        "colab": {
          "base_uri": "https://localhost:8080/"
        },
        "id": "QRYEC3_9h8Ze",
        "outputId": "38a490e4-b186-449f-aab8-f0f0ac9007fc"
      },
      "execution_count": 120,
      "outputs": [
        {
          "output_type": "stream",
          "name": "stdout",
          "text": [
            "tensor([[ 0.,  1.,  2.,  3.,  4.,  5.,  6.,  7.,  8.],\n",
            "        [ 9., 10., 11., 12., 13., 14., 15., 16., 17.]], dtype=torch.float16)\n"
          ]
        },
        {
          "output_type": "execute_result",
          "data": {
            "text/plain": [
              "(tensor([[ 2.,  1.,  2.,  3.,  4.,  5.,  6.,  7.,  8.],\n",
              "         [ 2., 10., 11., 12., 13., 14., 15., 16., 17.]], dtype=torch.float16),\n",
              " tensor([ 2.,  1.,  2.,  3.,  4.,  5.,  6.,  7.,  8.,  2., 10., 11., 12., 13.,\n",
              "         14., 15., 16., 17.], dtype=torch.float16))"
            ]
          },
          "metadata": {},
          "execution_count": 120
        }
      ]
    },
    {
      "cell_type": "code",
      "source": [
        "# Stacking the tensors\n",
        "## stacked1 = torch.stack([x,z],dim=0)  --> sharing the same memory as the original tensor.\n",
        "stacked = torch.stack([x,x,x],dim=1)\n",
        "print(stacked,\"\\n\")\n",
        "        # OR\n",
        "torch.vstack([x,x,x]),torch.hstack([x,x,x])\n"
      ],
      "metadata": {
        "colab": {
          "base_uri": "https://localhost:8080/"
        },
        "id": "wlO9Kndmil3V",
        "outputId": "ae3a36db-46a5-43c8-cb65-8945a814d96e"
      },
      "execution_count": 121,
      "outputs": [
        {
          "output_type": "stream",
          "name": "stdout",
          "text": [
            "tensor([[ 2.,  2.,  2.],\n",
            "        [ 1.,  1.,  1.],\n",
            "        [ 2.,  2.,  2.],\n",
            "        [ 3.,  3.,  3.],\n",
            "        [ 4.,  4.,  4.],\n",
            "        [ 5.,  5.,  5.],\n",
            "        [ 6.,  6.,  6.],\n",
            "        [ 7.,  7.,  7.],\n",
            "        [ 8.,  8.,  8.],\n",
            "        [ 2.,  2.,  2.],\n",
            "        [10., 10., 10.],\n",
            "        [11., 11., 11.],\n",
            "        [12., 12., 12.],\n",
            "        [13., 13., 13.],\n",
            "        [14., 14., 14.],\n",
            "        [15., 15., 15.],\n",
            "        [16., 16., 16.],\n",
            "        [17., 17., 17.]], dtype=torch.float16) \n",
            "\n"
          ]
        },
        {
          "output_type": "execute_result",
          "data": {
            "text/plain": [
              "(tensor([[ 2.,  1.,  2.,  3.,  4.,  5.,  6.,  7.,  8.,  2., 10., 11., 12., 13.,\n",
              "          14., 15., 16., 17.],\n",
              "         [ 2.,  1.,  2.,  3.,  4.,  5.,  6.,  7.,  8.,  2., 10., 11., 12., 13.,\n",
              "          14., 15., 16., 17.],\n",
              "         [ 2.,  1.,  2.,  3.,  4.,  5.,  6.,  7.,  8.,  2., 10., 11., 12., 13.,\n",
              "          14., 15., 16., 17.]], dtype=torch.float16),\n",
              " tensor([ 2.,  1.,  2.,  3.,  4.,  5.,  6.,  7.,  8.,  2., 10., 11., 12., 13.,\n",
              "         14., 15., 16., 17.,  2.,  1.,  2.,  3.,  4.,  5.,  6.,  7.,  8.,  2.,\n",
              "         10., 11., 12., 13., 14., 15., 16., 17.,  2.,  1.,  2.,  3.,  4.,  5.,\n",
              "          6.,  7.,  8.,  2., 10., 11., 12., 13., 14., 15., 16., 17.],\n",
              "        dtype=torch.float16))"
            ]
          },
          "metadata": {},
          "execution_count": 121
        }
      ]
    },
    {
      "cell_type": "code",
      "source": [
        "x = torch.zeros(1,10)\n",
        "print(x.shape)\n",
        "torch.squeeze(x).shape   #Removes all dimensions of size 1 from a tensor."
      ],
      "metadata": {
        "id": "8pRyv-wQjwlM",
        "colab": {
          "base_uri": "https://localhost:8080/"
        },
        "outputId": "ceb8f711-86ca-4620-e25f-fcdf7dc53ca9"
      },
      "execution_count": 122,
      "outputs": [
        {
          "output_type": "stream",
          "name": "stdout",
          "text": [
            "torch.Size([1, 10])\n"
          ]
        },
        {
          "output_type": "execute_result",
          "data": {
            "text/plain": [
              "torch.Size([10])"
            ]
          },
          "metadata": {},
          "execution_count": 122
        }
      ]
    },
    {
      "cell_type": "code",
      "source": [
        "print(torch.unsqueeze(x,dim=1))\n",
        "print(torch.unsqueeze(x,dim=1).shape)  #Adds a dimension of size 1 to a target tensor at a specified position."
      ],
      "metadata": {
        "id": "_R_swseDjwVG",
        "colab": {
          "base_uri": "https://localhost:8080/"
        },
        "outputId": "4b6f78ac-6893-4b5a-eca2-78b56e53b733"
      },
      "execution_count": 123,
      "outputs": [
        {
          "output_type": "stream",
          "name": "stdout",
          "text": [
            "tensor([[[0., 0., 0., 0., 0., 0., 0., 0., 0., 0.]]])\n",
            "torch.Size([1, 1, 10])\n"
          ]
        }
      ]
    },
    {
      "cell_type": "code",
      "source": [
        "z = torch.rand(2,1,10)\n",
        "print(z,\"\\n\",z.shape)\n",
        "# Permute the dimensions of z. Since z has shape [2,1,10], we need a tuple of 3 dimensions for permute.\n",
        "# For example, to swap the dimensions, we can use (1,2, 0)\n",
        "print(torch.permute(z,dims=(1,2,0)))"
      ],
      "metadata": {
        "colab": {
          "base_uri": "https://localhost:8080/"
        },
        "id": "4StVQLaMVg_T",
        "outputId": "fcc941be-a0f0-43cb-c8ca-5ccc518be57c"
      },
      "execution_count": 124,
      "outputs": [
        {
          "output_type": "stream",
          "name": "stdout",
          "text": [
            "tensor([[[0.8935, 0.5641, 0.8185, 0.8929, 0.1142, 0.7162, 0.0621, 0.1934,\n",
            "          0.0560, 0.6124]],\n",
            "\n",
            "        [[0.9843, 0.2519, 0.6722, 0.4822, 0.7418, 0.5410, 0.0794, 0.4796,\n",
            "          0.5262, 0.6794]]]) \n",
            " torch.Size([2, 1, 10])\n",
            "tensor([[[0.8935, 0.9843],\n",
            "         [0.5641, 0.2519],\n",
            "         [0.8185, 0.6722],\n",
            "         [0.8929, 0.4822],\n",
            "         [0.1142, 0.7418],\n",
            "         [0.7162, 0.5410],\n",
            "         [0.0621, 0.0794],\n",
            "         [0.1934, 0.4796],\n",
            "         [0.0560, 0.5262],\n",
            "         [0.6124, 0.6794]]])\n"
          ]
        }
      ]
    },
    {
      "cell_type": "markdown",
      "source": [
        "## Tensor Indexing"
      ],
      "metadata": {
        "id": "OJPqCMKwX-qf"
      }
    },
    {
      "cell_type": "code",
      "source": [
        "# Create a tensor of random integers\n",
        "y = torch.randint(low=0, high=1000, size=(2,2,10), dtype=torch.int32)\n",
        "print(\"Original tensor:\")\n",
        "print(y)\n",
        "\n",
        "# Change the value at y[0,0]\n",
        "y[0,0,0] = 99999\n",
        "print(\"\\nTensor after changing y[0,0]:\")\n",
        "print(y)\n",
        "print(\"permuted\")\n",
        "print(torch.permute(y,dims=(1,2,0)))\n",
        "y[0][0][5] = 20087567\n",
        "y"
      ],
      "metadata": {
        "colab": {
          "base_uri": "https://localhost:8080/"
        },
        "id": "lADFy8FYYfSR",
        "outputId": "a484e2f1-77be-4241-a500-4292aaba29dc"
      },
      "execution_count": 125,
      "outputs": [
        {
          "output_type": "stream",
          "name": "stdout",
          "text": [
            "Original tensor:\n",
            "tensor([[[957, 318, 347, 886, 922, 579, 141, 722, 240, 628],\n",
            "         [395, 378, 650, 289, 345, 531, 266, 350, 631, 127]],\n",
            "\n",
            "        [[397, 160, 562, 126, 776, 111, 703,   2, 769, 409],\n",
            "         [740, 944,   7, 665, 815, 219,  20, 786, 460, 648]]],\n",
            "       dtype=torch.int32)\n",
            "\n",
            "Tensor after changing y[0,0]:\n",
            "tensor([[[99999,   318,   347,   886,   922,   579,   141,   722,   240,   628],\n",
            "         [  395,   378,   650,   289,   345,   531,   266,   350,   631,   127]],\n",
            "\n",
            "        [[  397,   160,   562,   126,   776,   111,   703,     2,   769,   409],\n",
            "         [  740,   944,     7,   665,   815,   219,    20,   786,   460,   648]]],\n",
            "       dtype=torch.int32)\n",
            "permuted\n",
            "tensor([[[99999,   397],\n",
            "         [  318,   160],\n",
            "         [  347,   562],\n",
            "         [  886,   126],\n",
            "         [  922,   776],\n",
            "         [  579,   111],\n",
            "         [  141,   703],\n",
            "         [  722,     2],\n",
            "         [  240,   769],\n",
            "         [  628,   409]],\n",
            "\n",
            "        [[  395,   740],\n",
            "         [  378,   944],\n",
            "         [  650,     7],\n",
            "         [  289,   665],\n",
            "         [  345,   815],\n",
            "         [  531,   219],\n",
            "         [  266,    20],\n",
            "         [  350,   786],\n",
            "         [  631,   460],\n",
            "         [  127,   648]]], dtype=torch.int32)\n"
          ]
        },
        {
          "output_type": "execute_result",
          "data": {
            "text/plain": [
              "tensor([[[   99999,      318,      347,      886,      922, 20087567,      141,\n",
              "               722,      240,      628],\n",
              "         [     395,      378,      650,      289,      345,      531,      266,\n",
              "               350,      631,      127]],\n",
              "\n",
              "        [[     397,      160,      562,      126,      776,      111,      703,\n",
              "                 2,      769,      409],\n",
              "         [     740,      944,        7,      665,      815,      219,       20,\n",
              "               786,      460,      648]]], dtype=torch.int32)"
            ]
          },
          "metadata": {},
          "execution_count": 125
        }
      ]
    },
    {
      "cell_type": "markdown",
      "source": [
        "## Pytorch tensors to numpy\n",
        " * `Np ndarray to tensors` -> `torch.from_numpy(ndarray)`\n",
        " * `tensor to nparray ` -> `torch.Tensor.numpy()`"
      ],
      "metadata": {
        "id": "feaIrhWUdNnz"
      }
    },
    {
      "cell_type": "code",
      "source": [
        "import numpy as np\n",
        "a = np.random.randint(1,100,20).astype(np.int16)\n",
        "print(a)\n",
        "print(a.dtype)\n",
        "\n",
        "b = torch.from_numpy(a)\n",
        "print(b.dtype)\n",
        "\n",
        "c = torch.Tensor.numpy(b)\n",
        "print(c.dtype)"
      ],
      "metadata": {
        "colab": {
          "base_uri": "https://localhost:8080/"
        },
        "id": "f_KtDejNZI51",
        "outputId": "f06c2353-07f4-4d1a-e0f6-8ed06cd7ef38"
      },
      "execution_count": 126,
      "outputs": [
        {
          "output_type": "stream",
          "name": "stdout",
          "text": [
            "[23 58 33 73 28 80 58 15 11 77 12 80 21 19 74 64  4 11 62 81]\n",
            "int16\n",
            "torch.int16\n",
            "int16\n"
          ]
        }
      ]
    },
    {
      "cell_type": "code",
      "source": [],
      "metadata": {
        "id": "uCKwdTiTggdC"
      },
      "execution_count": 126,
      "outputs": []
    },
    {
      "cell_type": "markdown",
      "source": [
        "## Pytorch Reproducibility (TAKING THE RANDOM OUT OF RANDOM)"
      ],
      "metadata": {
        "id": "NZJ8fXlBdMw4"
      }
    },
    {
      "cell_type": "code",
      "source": [
        "RANDOM_SEED = 2\n",
        "torch.manual_seed(RANDOM_SEED)\n",
        "tensor_x = torch.rand(3,4)\n",
        "torch.manual_seed(RANDOM_SEED)\n",
        "tensor_y = torch.rand(3,4) ## Random seed works for one line or one seed\n",
        "print(tensor_x == tensor_y)"
      ],
      "metadata": {
        "id": "-HxGc8vcf1fc",
        "colab": {
          "base_uri": "https://localhost:8080/"
        },
        "outputId": "28177b56-a8c6-4692-f246-77e09f82f43b"
      },
      "execution_count": 127,
      "outputs": [
        {
          "output_type": "stream",
          "name": "stdout",
          "text": [
            "tensor([[True, True, True, True],\n",
            "        [True, True, True, True],\n",
            "        [True, True, True, True]])\n"
          ]
        }
      ]
    },
    {
      "cell_type": "markdown",
      "source": [
        "## WAYS OF ACCESSING A GPU IN PYTORCH\n",
        "* Running tensors and Pytorch objects on the GPUs(for faster computation)"
      ],
      "metadata": {
        "id": "QMUBwklNCS3g"
      }
    },
    {
      "cell_type": "markdown",
      "source": [
        "* Use colab gpu or have your own , else you can use cloud computing AWS, GCP etc"
      ],
      "metadata": {
        "id": "sv4A4gLtEvPU"
      }
    },
    {
      "cell_type": "code",
      "source": [
        "torch.cuda.is_available()"
      ],
      "metadata": {
        "colab": {
          "base_uri": "https://localhost:8080/"
        },
        "id": "yr96cRQGOIP5",
        "outputId": "68ca8d2b-591b-4570-e170-31d7fde85c5a"
      },
      "execution_count": 129,
      "outputs": [
        {
          "output_type": "execute_result",
          "data": {
            "text/plain": [
              "False"
            ]
          },
          "metadata": {},
          "execution_count": 129
        }
      ]
    },
    {
      "cell_type": "code",
      "source": [
        "## Setup device agnostic code\n",
        "device = \"cuda\" if torch.cuda.is_available() else \"cpu\" ##best practice\n",
        "device\n",
        "torch.cuda.device_count()"
      ],
      "metadata": {
        "colab": {
          "base_uri": "https://localhost:8080/"
        },
        "id": "7pyve1MHPhrk",
        "outputId": "08ad3601-4cdd-4ffe-edd2-4d93ca5ce917"
      },
      "execution_count": 135,
      "outputs": [
        {
          "output_type": "execute_result",
          "data": {
            "text/plain": [
              "0"
            ]
          },
          "metadata": {},
          "execution_count": 135
        }
      ]
    },
    {
      "cell_type": "markdown",
      "source": [
        "## Setup Device agnostic code and putting tensors on and off GPU\n",
        " * Putting tensors and models on the gpu for Faster computations"
      ],
      "metadata": {
        "id": "nqq32KBaQHIJ"
      }
    },
    {
      "cell_type": "code",
      "source": [
        "## Setup device agnostic code\n",
        "device = \"cuda\" if torch.cuda.is_available() else \"cpu\" ##best practice\n",
        "print(device)\n",
        "print(torch.cuda.device_count())\n",
        "\n",
        "tensor_a = torch.tensor([1,2,3,4,5,6,7],device=device)\n",
        "print(tensor_a,tensor_a.device)\n",
        "# on_gpu = tensor_a.to(\"cuda\")\n",
        "# on_gpu"
      ],
      "metadata": {
        "colab": {
          "base_uri": "https://localhost:8080/"
        },
        "id": "junKKzvLRJqa",
        "outputId": "a83d8bb4-f2dc-439b-daa0-532fe2501948"
      },
      "execution_count": 138,
      "outputs": [
        {
          "output_type": "stream",
          "name": "stdout",
          "text": [
            "cpu\n",
            "0\n",
            "tensor([1, 2, 3, 4, 5, 6, 7]) cpu\n"
          ]
        }
      ]
    },
    {
      "cell_type": "code",
      "source": [],
      "metadata": {
        "id": "DFYQjPKNSjDF"
      },
      "execution_count": null,
      "outputs": []
    }
  ]
}