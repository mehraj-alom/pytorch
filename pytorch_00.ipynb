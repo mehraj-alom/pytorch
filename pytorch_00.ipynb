{
  "nbformat": 4,
  "nbformat_minor": 0,
  "metadata": {
    "colab": {
      "provenance": [],
      "gpuType": "T4",
      "authorship_tag": "ABX9TyPxYSuASVx0Z/fJO6juLiBa",
      "include_colab_link": true
    },
    "kernelspec": {
      "name": "python3",
      "display_name": "Python 3"
    },
    "language_info": {
      "name": "python"
    },
    "accelerator": "GPU"
  },
  "cells": [
    {
      "cell_type": "markdown",
      "metadata": {
        "id": "view-in-github",
        "colab_type": "text"
      },
      "source": [
        "<a href=\"https://colab.research.google.com/github/mehraj-alom/pytorch/blob/main/pytorch_00.ipynb\" target=\"_parent\"><img src=\"https://colab.research.google.com/assets/colab-badge.svg\" alt=\"Open In Colab\"/></a>"
      ]
    },
    {
      "cell_type": "code",
      "source": [
        "!nvidia-smi #System mangement inference"
      ],
      "metadata": {
        "colab": {
          "base_uri": "https://localhost:8080/"
        },
        "id": "IPdx9JWIQTFA",
        "outputId": "59f3e449-bb67-4f58-f70f-85908c6bc283"
      },
      "execution_count": 1,
      "outputs": [
        {
          "output_type": "stream",
          "name": "stdout",
          "text": [
            "Wed Aug 13 21:22:19 2025       \n",
            "+-----------------------------------------------------------------------------------------+\n",
            "| NVIDIA-SMI 550.54.15              Driver Version: 550.54.15      CUDA Version: 12.4     |\n",
            "|-----------------------------------------+------------------------+----------------------+\n",
            "| GPU  Name                 Persistence-M | Bus-Id          Disp.A | Volatile Uncorr. ECC |\n",
            "| Fan  Temp   Perf          Pwr:Usage/Cap |           Memory-Usage | GPU-Util  Compute M. |\n",
            "|                                         |                        |               MIG M. |\n",
            "|=========================================+========================+======================|\n",
            "|   0  Tesla T4                       Off |   00000000:00:04.0 Off |                    0 |\n",
            "| N/A   68C    P8             11W /   70W |       0MiB /  15360MiB |      0%      Default |\n",
            "|                                         |                        |                  N/A |\n",
            "+-----------------------------------------+------------------------+----------------------+\n",
            "                                                                                         \n",
            "+-----------------------------------------------------------------------------------------+\n",
            "| Processes:                                                                              |\n",
            "|  GPU   GI   CI        PID   Type   Process name                              GPU Memory |\n",
            "|        ID   ID                                                               Usage      |\n",
            "|=========================================================================================|\n",
            "|  No running processes found                                                             |\n",
            "+-----------------------------------------------------------------------------------------+\n"
          ]
        }
      ]
    },
    {
      "cell_type": "code",
      "source": [
        "import torch\n",
        "torch.__version__"
      ],
      "metadata": {
        "colab": {
          "base_uri": "https://localhost:8080/",
          "height": 37
        },
        "id": "2EKe2KQHQ2PJ",
        "outputId": "422896a0-441e-4399-9323-a09c74438add"
      },
      "execution_count": 2,
      "outputs": [
        {
          "output_type": "execute_result",
          "data": {
            "text/plain": [
              "'2.6.0+cu124'"
            ],
            "application/vnd.google.colaboratory.intrinsic+json": {
              "type": "string"
            }
          },
          "metadata": {},
          "execution_count": 2
        }
      ]
    },
    {
      "cell_type": "markdown",
      "source": [
        "## Tensors"
      ],
      "metadata": {
        "id": "iMT2_i5BRMx7"
      }
    },
    {
      "cell_type": "code",
      "source": [
        "#scaler\n",
        "scaler = torch.tensor(7)\n",
        "print(scaler)\n",
        "print(scaler.ndim)\n",
        "print(scaler.item())"
      ],
      "metadata": {
        "colab": {
          "base_uri": "https://localhost:8080/"
        },
        "id": "dsO-zh3SSqfm",
        "outputId": "f2bdd8db-ce7a-40ec-a770-34cbfc128fd3"
      },
      "execution_count": 4,
      "outputs": [
        {
          "output_type": "stream",
          "name": "stdout",
          "text": [
            "tensor(7)\n",
            "0\n",
            "7\n"
          ]
        }
      ]
    },
    {
      "cell_type": "code",
      "source": [
        "#Vector\n",
        "vector = torch.tensor([7,9])\n",
        "vector,vector.ndim,vector.shape"
      ],
      "metadata": {
        "colab": {
          "base_uri": "https://localhost:8080/"
        },
        "id": "EYSqJXjvUSsO",
        "outputId": "dfd7aacb-b0a4-45a4-b203-392813b00ee9"
      },
      "execution_count": 10,
      "outputs": [
        {
          "output_type": "execute_result",
          "data": {
            "text/plain": [
              "(tensor([7, 9]), 1, torch.Size([2]))"
            ]
          },
          "metadata": {},
          "execution_count": 10
        }
      ]
    },
    {
      "cell_type": "code",
      "source": [
        "#Matrix\n",
        "Matrix = torch.tensor([[2,3],\n",
        "                       [3,6]])\n",
        "Matrix,Matrix.ndim,Matrix.shape,Matrix[1]"
      ],
      "metadata": {
        "colab": {
          "base_uri": "https://localhost:8080/"
        },
        "id": "ivu9m7a1U11C",
        "outputId": "20faa0e5-227a-4665-95c5-bdb9c54142d0"
      },
      "execution_count": 16,
      "outputs": [
        {
          "output_type": "execute_result",
          "data": {
            "text/plain": [
              "(tensor([[2, 3],\n",
              "         [3, 6]]),\n",
              " 2,\n",
              " torch.Size([2, 2]),\n",
              " tensor([3, 6]))"
            ]
          },
          "metadata": {},
          "execution_count": 16
        }
      ]
    },
    {
      "cell_type": "code",
      "source": [
        "#TENSOR\n",
        "Tensor = torch.tensor([[[2,3,4],\n",
        "                        [5,6,7],\n",
        "                        [7,8,0]],\n",
        "                       ])\n",
        "Tensor,Tensor.ndim,Tensor.shape\n",
        "# -->  torch.Size([1, 3, 3])) means 1 tensor of size 3 by 3"
      ],
      "metadata": {
        "colab": {
          "base_uri": "https://localhost:8080/"
        },
        "id": "UBAR6gR6VxAX",
        "outputId": "e5191a7a-2c13-4538-99e6-34961e524a07"
      },
      "execution_count": 20,
      "outputs": [
        {
          "output_type": "execute_result",
          "data": {
            "text/plain": [
              "(tensor([[[2, 3, 4],\n",
              "          [5, 6, 7],\n",
              "          [7, 8, 0]]]),\n",
              " 3,\n",
              " torch.Size([1, 3, 3]))"
            ]
          },
          "metadata": {},
          "execution_count": 20
        }
      ]
    },
    {
      "cell_type": "code",
      "source": [
        "#TENSOR\n",
        "Tensor = torch.tensor([[[2,3,4],\n",
        "                        [5,6,7],\n",
        "                        [7,8,0]],\n",
        "                       [[2,3,4],\n",
        "                        [5,6,7],\n",
        "                        [7,8,0]]])\n",
        "Tensor,Tensor.ndim,Tensor.shape\n",
        "#  -->  torch.Size([2, 3, 3])) means 2 tensor of size 3 by 3"
      ],
      "metadata": {
        "colab": {
          "base_uri": "https://localhost:8080/"
        },
        "id": "1Y-GW4c-XDFk",
        "outputId": "ce711b61-2e12-4a75-dc34-01908488bb28"
      },
      "execution_count": 22,
      "outputs": [
        {
          "output_type": "execute_result",
          "data": {
            "text/plain": [
              "(tensor([[[2, 3, 4],\n",
              "          [5, 6, 7],\n",
              "          [7, 8, 0]],\n",
              " \n",
              "         [[2, 3, 4],\n",
              "          [5, 6, 7],\n",
              "          [7, 8, 0]]]),\n",
              " 3,\n",
              " torch.Size([2, 3, 3]))"
            ]
          },
          "metadata": {},
          "execution_count": 22
        }
      ]
    },
    {
      "cell_type": "markdown",
      "source": [
        "## Random Tensors\n",
        "# WHY ??\n",
        "Random tensors are important because the way many neural networks learn is that they start with tensors full of random numbers and then adjust those random numbers to better represent the data\n",
        "\n",
        "\n",
        "` Start With random number -> Look at data -> Update Random Numbbers -> look at data ............`"
      ],
      "metadata": {
        "id": "6DbbBTP0YLIU"
      }
    },
    {
      "cell_type": "code",
      "source": [
        "random_tensors = torch.rand(2,3,4)\n",
        "random_tensors,random_tensors.ndim"
      ],
      "metadata": {
        "colab": {
          "base_uri": "https://localhost:8080/"
        },
        "id": "Pz9FQWJQXKxc",
        "outputId": "3f034738-50be-4b2f-e2e0-2d01d58400c4"
      },
      "execution_count": 28,
      "outputs": [
        {
          "output_type": "execute_result",
          "data": {
            "text/plain": [
              "(tensor([[[0.9859, 0.8428, 0.3475, 0.6307],\n",
              "          [0.7614, 0.7806, 0.8362, 0.5400],\n",
              "          [0.0995, 0.4244, 0.9420, 0.3306]],\n",
              " \n",
              "         [[0.3946, 0.4040, 0.9767, 0.8511],\n",
              "          [0.6461, 0.2052, 0.8966, 0.6889],\n",
              "          [0.3432, 0.5887, 0.5065, 0.0720]]]),\n",
              " 3)"
            ]
          },
          "metadata": {},
          "execution_count": 28
        }
      ]
    },
    {
      "cell_type": "code",
      "source": [
        "#Random tensor Similer to image shape\n",
        "Random_tens = torch.rand(size=(3,224,224))\n",
        "Random_tens,Random_tens.shape,Random_tens.ndim"
      ],
      "metadata": {
        "colab": {
          "base_uri": "https://localhost:8080/"
        },
        "id": "k72hNvoqZqfa",
        "outputId": "3e2365c1-b5b7-4299-9205-27023ba35312"
      },
      "execution_count": 31,
      "outputs": [
        {
          "output_type": "execute_result",
          "data": {
            "text/plain": [
              "(tensor([[[6.8111e-01, 3.4705e-01, 8.0316e-01,  ..., 3.9764e-01,\n",
              "           6.9543e-01, 4.4234e-01],\n",
              "          [1.2789e-01, 8.8615e-01, 3.8306e-01,  ..., 5.5647e-01,\n",
              "           9.6229e-01, 6.7543e-01],\n",
              "          [3.7648e-01, 5.3423e-01, 3.8123e-01,  ..., 1.8131e-01,\n",
              "           2.7696e-01, 4.5281e-01],\n",
              "          ...,\n",
              "          [2.8109e-01, 7.6454e-01, 9.0677e-01,  ..., 5.3495e-01,\n",
              "           5.1374e-01, 9.3259e-01],\n",
              "          [7.5555e-01, 4.6906e-01, 9.3056e-01,  ..., 5.8629e-01,\n",
              "           4.7308e-01, 6.7749e-01],\n",
              "          [2.5307e-01, 8.6256e-01, 5.7581e-01,  ..., 1.2404e-01,\n",
              "           1.5435e-03, 8.0227e-02]],\n",
              " \n",
              "         [[4.6366e-01, 5.3290e-01, 1.6945e-01,  ..., 8.9817e-01,\n",
              "           8.5738e-01, 9.2314e-01],\n",
              "          [1.7751e-01, 2.4543e-01, 2.9726e-01,  ..., 3.1693e-01,\n",
              "           1.6579e-01, 5.5784e-01],\n",
              "          [3.0026e-01, 7.6741e-02, 4.8500e-01,  ..., 8.1103e-01,\n",
              "           5.9360e-01, 5.9780e-02],\n",
              "          ...,\n",
              "          [2.7536e-02, 4.9530e-01, 7.3496e-01,  ..., 2.9415e-01,\n",
              "           9.9793e-01, 9.3409e-01],\n",
              "          [7.6839e-01, 5.1905e-01, 1.1831e-01,  ..., 3.6662e-01,\n",
              "           8.5319e-01, 2.8739e-01],\n",
              "          [1.1183e-01, 7.0857e-01, 2.5089e-01,  ..., 1.1777e-01,\n",
              "           7.1682e-01, 3.6758e-01]],\n",
              " \n",
              "         [[2.8407e-01, 4.4907e-02, 4.7612e-04,  ..., 5.0548e-01,\n",
              "           5.9555e-01, 8.0528e-01],\n",
              "          [3.3619e-01, 7.1235e-01, 2.5157e-01,  ..., 5.0927e-01,\n",
              "           5.4083e-01, 3.3742e-01],\n",
              "          [4.2435e-01, 8.9623e-01, 1.6546e-01,  ..., 4.4339e-01,\n",
              "           1.0938e-01, 3.0964e-01],\n",
              "          ...,\n",
              "          [2.3732e-01, 9.1407e-01, 6.5081e-01,  ..., 1.3513e-01,\n",
              "           8.5283e-01, 6.9968e-01],\n",
              "          [1.3999e-01, 1.2875e-01, 4.2792e-01,  ..., 2.8478e-01,\n",
              "           7.1232e-03, 4.7073e-02],\n",
              "          [3.8285e-01, 5.1213e-01, 6.6358e-01,  ..., 7.7800e-01,\n",
              "           9.2005e-01, 4.9108e-01]]]),\n",
              " torch.Size([3, 224, 224]),\n",
              " 3)"
            ]
          },
          "metadata": {},
          "execution_count": 31
        }
      ]
    },
    {
      "cell_type": "code",
      "source": [
        "# Tensor Zeros and ones\n",
        "ones = torch.ones(size=(2, 2))\n",
        "zeros = torch.zeros(size=(2,3))\n",
        "print(\"Tensor of ones:\")\n",
        "print(ones)\n",
        "print(\"\\nTensor of zeros:\")\n",
        "print(zeros)\n",
        "print(ones.dtype)\n",
        "print(zeros.dtype)"
      ],
      "metadata": {
        "colab": {
          "base_uri": "https://localhost:8080/"
        },
        "id": "Het3ebmGawZ6",
        "outputId": "7502f842-dfdc-40f6-88da-cb57dab9f87e"
      },
      "execution_count": 41,
      "outputs": [
        {
          "output_type": "stream",
          "name": "stdout",
          "text": [
            "Tensor of ones:\n",
            "tensor([[1., 1.],\n",
            "        [1., 1.]])\n",
            "\n",
            "Tensor of zeros:\n",
            "tensor([[0., 0., 0.],\n",
            "        [0., 0., 0.]])\n",
            "torch.float32\n",
            "torch.float32\n"
          ]
        }
      ]
    },
    {
      "cell_type": "code",
      "source": [
        "# Tensor Range\n",
        "tensor_range = torch.arange(start=0,step =67 ,end=1000)\n",
        "tensor_range,tensor_range.shape"
      ],
      "metadata": {
        "colab": {
          "base_uri": "https://localhost:8080/"
        },
        "id": "kLOOMLiebwWJ",
        "outputId": "06330252-cb69-4894-e988-99aaa3f33589"
      },
      "execution_count": 48,
      "outputs": [
        {
          "output_type": "execute_result",
          "data": {
            "text/plain": [
              "(tensor([  0,  67, 134, 201, 268, 335, 402, 469, 536, 603, 670, 737, 804, 871,\n",
              "         938]),\n",
              " torch.Size([15]))"
            ]
          },
          "metadata": {},
          "execution_count": 48
        }
      ]
    },
    {
      "cell_type": "code",
      "source": [
        "#Creating Tensors Like\n",
        "ten_zeros = torch.zeros_like(input=tensor_range)\n",
        "ten_zeros,ten_zeros.shape"
      ],
      "metadata": {
        "colab": {
          "base_uri": "https://localhost:8080/"
        },
        "id": "oLvkYGIxdUz4",
        "outputId": "bebcc3cb-cc29-4fdc-dd36-03475602cd22"
      },
      "execution_count": 51,
      "outputs": [
        {
          "output_type": "execute_result",
          "data": {
            "text/plain": [
              "(tensor([0, 0, 0, 0, 0, 0, 0, 0, 0, 0, 0, 0, 0, 0, 0]), torch.Size([15]))"
            ]
          },
          "metadata": {},
          "execution_count": 51
        }
      ]
    },
    {
      "cell_type": "markdown",
      "source": [
        "## Tensor Data Types"
      ],
      "metadata": {
        "id": "e6RFnknYeOv0"
      }
    },
    {
      "cell_type": "code",
      "source": [
        "#Time stamp 1:58 hour"
      ],
      "metadata": {
        "id": "kImAragJdtgC"
      },
      "execution_count": 52,
      "outputs": []
    }
  ]
}